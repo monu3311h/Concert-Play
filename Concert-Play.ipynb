{
 "cells": [
  {
   "cell_type": "code",
   "execution_count": 111,
   "id": "9a4887b7-8441-4612-8ada-800be8f7ccf5",
   "metadata": {},
   "outputs": [],
   "source": [
    "# Concert Play\n",
    "import pandas as pd\n",
    "import cv2 as cv\n",
    "class Concert:\n",
    "    def __init__(self):\n",
    "        singers = ['Cardy B', 'Tylor Swift', 'Selena Gomez', 'Justin Bieber']\n",
    "        print(\"\\t\\t\\tThe Concert Play In USA - 2024\\n\\n\")\n",
    "        for singer in singers:\n",
    "            print(singer, '\\t\\t', end=' ')\n",
    "            \n",
    "    def Cardy(self):\n",
    "        print(\"\\t\\t\\tHere You can buy the Tickets of Cardy B's Tour at California\\n\\n\")\n",
    "        location = ['Los Angeles', 'San Fransisco', 'California City']\n",
    "        prices = [20000, 10000, 15000]\n",
    "        dict = {'Location': location, 'Prices': prices}\n",
    "        data = pd.DataFrame(dict)\n",
    "        total_amount = 0\n",
    "        run = True\n",
    "        while run:\n",
    "            index = int(input(\"Choose the Concert City -(Los Angeles/San Fransisco/California City) by their Index value\"))\n",
    "            ticket_count = int(input('How many tickets you wanna buy ? '))\n",
    "            total_amount += data['Prices'][index] * ticket_count\n",
    "            buy_more = input('Wanna buy more tickets ? (y or n)').lower()\n",
    "            if buy_more == 'n':\n",
    "                break\n",
    "        tax = 0.05\n",
    "        tax_amount = total_amount * tax\n",
    "        total_amount_with_tax = total_amount + tax_amount\n",
    "        print('Service tax - 5%')\n",
    "        print('The total Amount is', total_amount)\n",
    "        print('The tax amount is ', tax_amount)\n",
    "        print('The total Amount with tax is', total_amount_with_tax)\n",
    "\n",
    "        self.payment_method(total_amount_with_tax)\n",
    "        \n",
    "    def Tylor(self):\n",
    "        print(\"\\t\\t\\tHere You can buy the Tickets of Tylor Swift's Tour\\n\\n\")\n",
    "        location = ['New York City', 'Washington D.C.', 'Chicago']\n",
    "        prices = [30000, 35000, 20000]\n",
    "        dict = {'Location': location, 'Prices': prices}\n",
    "        data = pd.DataFrame(dict)\n",
    "        total_amount = 0\n",
    "        run = True\n",
    "        while run:\n",
    "            index = int(input(\"Choose the Concert City -(New York City/Washington D.C./Chicago) by their Index value\"))\n",
    "            ticket_count = int(input('How many tickets you wanna buy ? '))\n",
    "            total_amount += data['Prices'][index] * ticket_count\n",
    "            buy_more = input('Wanna buy more tickets ? (y or n)').lower()\n",
    "            if buy_more == 'n':\n",
    "                break\n",
    "        tax = 0.05\n",
    "        tax_amount = total_amount * tax\n",
    "        total_amount_with_tax = total_amount + tax_amount\n",
    "        print('Service tax - 5%')\n",
    "        print('The total Amount is', total_amount)\n",
    "        print('The tax amount is ', tax_amount)\n",
    "        print('The total Amount with tax is', total_amount_with_tax)\n",
    "\n",
    "        self.payment_method(total_amount_with_tax)\n",
    "\n",
    "    def Salena(self):\n",
    "        print(\"\\t\\t\\tHere You can buy the Tickets of Salena Gomez's Tour\\n\\n\")\n",
    "        location = ['San Fransisco', 'London', 'New York City']\n",
    "        prices = [28000, 35000, 30000]\n",
    "        dict = {'Location': location, 'Prices': prices}\n",
    "        data = pd.DataFrame(dict)\n",
    "        total_amount = 0\n",
    "        run = True\n",
    "        while run:\n",
    "            index = int(input(\"Choose the Concert City -(San Fransisco/London/New York City) by their Index value\"))\n",
    "            ticket_count = int(input('How many tickets you wanna buy ? '))\n",
    "            total_amount += data['Prices'][index] * ticket_count\n",
    "            buy_more = input('Wanna buy more tickets ? (y or n)').lower()\n",
    "            if buy_more == 'n':\n",
    "                break\n",
    "        tax = 0.05\n",
    "        tax_amount = total_amount * tax\n",
    "        total_amount_with_tax = total_amount + tax_amount\n",
    "        print('Service tax - 5%')\n",
    "        print('The total Amount is', total_amount)\n",
    "        print('The tax amount is ', tax_amount)\n",
    "        print('The total Amount with tax is', total_amount_with_tax)\n",
    "\n",
    "        self.payment_method(total_amount_with_tax)\n",
    "\n",
    "    def Justin(self):\n",
    "        print(\"\\t\\t\\tHere You can buy the Tickets of Justin Bieber's Tour\\n\\n\")\n",
    "        location = ['London', 'Norfolk Virginia', 'Atlanta']\n",
    "        prices = [35000, 25000, 22000]\n",
    "        dict = {'Location': location, 'Prices': prices}\n",
    "        data = pd.DataFrame(dict)\n",
    "        total_amount = 0\n",
    "        run = True\n",
    "        while run:\n",
    "            index = int(input(\"Choose the Concert City -(London/Norfolk Virginia/Atlanta) by their Index value\"))\n",
    "            ticket_count = int(input('How many tickets you wanna buy ? '))\n",
    "            total_amount += data['Prices'][index] * ticket_count\n",
    "            buy_more = input('Wanna buy more tickets ? (y or n)').lower()\n",
    "            if buy_more == 'n':\n",
    "                break\n",
    "        tax = 0.05\n",
    "        tax_amount = total_amount * tax\n",
    "        total_amount_with_tax = total_amount + tax_amount\n",
    "        print('Service tax - 5%')\n",
    "        print('The total Amount is', total_amount)\n",
    "        print('The tax amount is ', tax_amount)\n",
    "        print('The total Amount with tax is', total_amount_with_tax)\n",
    "\n",
    "        self.payment_method(total_amount_with_tax)\n",
    "\n",
    "    def payment_method(self, amount):\n",
    "        payment_mode = input('Which payment method you wanna choose to pay ? (Phonepay/Cash)').lower()\n",
    "        if payment_mode == 'phonepay':\n",
    "            img = cv.imread('./phonepe.png')\n",
    "            img = cv.resize(img, (500, 500))\n",
    "            cv.imshow('image', img)\n",
    "            cv.waitKey(0)\n",
    "        else:\n",
    "            print('Give me ', amount, ' Rupees in cash')\n",
    "            \n",
    "            \n",
    "        \n",
    "        \n",
    "        "
   ]
  },
  {
   "cell_type": "code",
   "execution_count": 113,
   "id": "a55b7af4-c3da-4719-bb0e-1c1c5b6b26d7",
   "metadata": {},
   "outputs": [
    {
     "name": "stdout",
     "output_type": "stream",
     "text": [
      "\t\t\tThe Concert Play In USA - 2024\n",
      "\n",
      "\n",
      "Cardy B \t\t Tylor Swift \t\t Selena Gomez \t\t Justin Bieber \t\t "
     ]
    }
   ],
   "source": [
    "obj = Concert()"
   ]
  },
  {
   "cell_type": "code",
   "execution_count": null,
   "id": "14fac117-f79d-4844-85c6-f1e5daa39a69",
   "metadata": {},
   "outputs": [
    {
     "name": "stdin",
     "output_type": "stream",
     "text": [
      "Which Singer's Concert do you wanna join ? (Cardy b/Justin bieber/Selena gomez/Tylor swift) justin bieber\n"
     ]
    },
    {
     "name": "stdout",
     "output_type": "stream",
     "text": [
      "\t\t\tHere You can buy the Tickets of Justin Bieber's Tour\n",
      "\n",
      "\n"
     ]
    },
    {
     "name": "stdin",
     "output_type": "stream",
     "text": [
      "Choose the Concert City -(London/Norfolk Virginia/Atlanta) by their Index value 0\n",
      "How many tickets you wanna buy ?  2\n",
      "Wanna buy more tickets ? (y or n) n\n"
     ]
    },
    {
     "name": "stdout",
     "output_type": "stream",
     "text": [
      "Service tax - 5%\n",
      "The total Amount is 70000\n",
      "The tax amount is  3500.0\n",
      "The total Amount with tax is 73500.0\n"
     ]
    }
   ],
   "source": [
    "user_input = input(\"Which Singer's Concert do you wanna join ? (Cardy b/Justin bieber/Selena gomez/Tylor swift)\").lower()\n",
    "if user_input == 'cardy b':\n",
    "    obj.Cardy()\n",
    "elif user_input == 'justin bieber':\n",
    "    obj.Justin()\n",
    "if user_input == 'selena gomez':\n",
    "    obj.Selena()\n",
    "if user_input == 'tylor swift':\n",
    "    obj.Tylor()"
   ]
  }
 ],
 "metadata": {
  "kernelspec": {
   "display_name": "Python 3 (ipykernel)",
   "language": "python",
   "name": "python3"
  },
  "language_info": {
   "codemirror_mode": {
    "name": "ipython",
    "version": 3
   },
   "file_extension": ".py",
   "mimetype": "text/x-python",
   "name": "python",
   "nbconvert_exporter": "python",
   "pygments_lexer": "ipython3",
   "version": "3.12.4"
  }
 },
 "nbformat": 4,
 "nbformat_minor": 5
}
